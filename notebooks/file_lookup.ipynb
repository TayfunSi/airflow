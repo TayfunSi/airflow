{
 "cells": [
  {
   "cell_type": "code",
   "execution_count": 5,
   "id": "6c7556f9",
   "metadata": {},
   "outputs": [
    {
     "name": "stdout",
     "output_type": "stream",
     "text": [
      "   LocationID        Borough                     Zone service_zone\n",
      "0           1            EWR           Newark Airport          EWR\n",
      "1           2         Queens              Jamaica Bay    Boro Zone\n",
      "2           3          Bronx  Allerton/Pelham Gardens    Boro Zone\n",
      "3           4      Manhattan            Alphabet City  Yellow Zone\n",
      "4           5  Staten Island            Arden Heights    Boro Zone\n",
      "5           6  Staten Island  Arrochar/Fort Wadsworth    Boro Zone\n",
      "6           7         Queens                  Astoria    Boro Zone\n",
      "7           8         Queens             Astoria Park    Boro Zone\n",
      "8           9         Queens               Auburndale    Boro Zone\n",
      "9          10         Queens             Baisley Park    Boro Zone\n"
     ]
    }
   ],
   "source": [
    "import pandas as pd\n",
    "\n",
    "# Relativer Pfad zur CSV-Datei\n",
    "df = pd.read_csv('/Users/tsimsek/airflow/data/raw/zones.csv')\n",
    "\n",
    "# Ausgabe zur Kontrolle\n",
    "print(df.head(10))"
   ]
  },
  {
   "cell_type": "code",
   "execution_count": null,
   "id": "58581359",
   "metadata": {},
   "outputs": [
    {
     "name": "stdout",
     "output_type": "stream",
     "text": [
      "   VendorID tpep_pickup_datetime tpep_dropoff_datetime  passenger_count  \\\n",
      "0         2  2024-01-01 00:57:55   2024-01-01 01:17:43              1.0   \n",
      "1         1  2024-01-01 00:03:00   2024-01-01 00:09:36              1.0   \n",
      "2         1  2024-01-01 00:17:06   2024-01-01 00:35:01              1.0   \n",
      "3         1  2024-01-01 00:36:38   2024-01-01 00:44:56              1.0   \n",
      "4         1  2024-01-01 00:46:51   2024-01-01 00:52:57              1.0   \n",
      "5         1  2024-01-01 00:54:08   2024-01-01 01:26:31              1.0   \n",
      "6         2  2024-01-01 00:49:44   2024-01-01 01:15:47              2.0   \n",
      "7         1  2024-01-01 00:30:40   2024-01-01 00:58:40              0.0   \n",
      "8         2  2024-01-01 00:26:01   2024-01-01 00:54:12              1.0   \n",
      "9         2  2024-01-01 00:28:08   2024-01-01 00:29:16              1.0   \n",
      "\n",
      "   trip_distance  RatecodeID store_and_fwd_flag  PULocationID  DOLocationID  \\\n",
      "0           1.72         1.0                  N           186            79   \n",
      "1           1.80         1.0                  N           140           236   \n",
      "2           4.70         1.0                  N           236            79   \n",
      "3           1.40         1.0                  N            79           211   \n",
      "4           0.80         1.0                  N           211           148   \n",
      "5           4.70         1.0                  N           148           141   \n",
      "6          10.82         1.0                  N           138           181   \n",
      "7           3.00         1.0                  N           246           231   \n",
      "8           5.44         1.0                  N           161           261   \n",
      "9           0.04         1.0                  N           113           113   \n",
      "\n",
      "   payment_type  fare_amount  extra  mta_tax  tip_amount  tolls_amount  \\\n",
      "0             2         17.7    1.0      0.5        0.00           0.0   \n",
      "1             1         10.0    3.5      0.5        3.75           0.0   \n",
      "2             1         23.3    3.5      0.5        3.00           0.0   \n",
      "3             1         10.0    3.5      0.5        2.00           0.0   \n",
      "4             1          7.9    3.5      0.5        3.20           0.0   \n",
      "5             1         29.6    3.5      0.5        6.90           0.0   \n",
      "6             1         45.7    6.0      0.5       10.00           0.0   \n",
      "7             2         25.4    3.5      0.5        0.00           0.0   \n",
      "8             2         31.0    1.0      0.5        0.00           0.0   \n",
      "9             2          3.0    1.0      0.5        0.00           0.0   \n",
      "\n",
      "   improvement_surcharge  total_amount  congestion_surcharge  Airport_fee  \n",
      "0                    1.0         22.70                   2.5         0.00  \n",
      "1                    1.0         18.75                   2.5         0.00  \n",
      "2                    1.0         31.30                   2.5         0.00  \n",
      "3                    1.0         17.00                   2.5         0.00  \n",
      "4                    1.0         16.10                   2.5         0.00  \n",
      "5                    1.0         41.50                   2.5         0.00  \n",
      "6                    1.0         64.95                   0.0         1.75  \n",
      "7                    1.0         30.40                   2.5         0.00  \n",
      "8                    1.0         36.00                   2.5         0.00  \n",
      "9                    1.0          8.00                   2.5         0.00  \n"
     ]
    }
   ],
   "source": [
    "import pandas as pd\n",
    "\n",
    "# Relativer Pfad zur Parquet-Datei\n",
    "df = pd.read_parquet('/Users/tsimsek/airflow/data/raw/taxi_data.parquet')\n",
    "\n",
    "# Ausgabe zur Kontrolle\n",
    "print(df.head(10))"
   ]
  }
 ],
 "metadata": {
  "kernelspec": {
   "display_name": "Python 3",
   "language": "python",
   "name": "python3"
  },
  "language_info": {
   "codemirror_mode": {
    "name": "ipython",
    "version": 3
   },
   "file_extension": ".py",
   "mimetype": "text/x-python",
   "name": "python",
   "nbconvert_exporter": "python",
   "pygments_lexer": "ipython3",
   "version": "3.9.6"
  }
 },
 "nbformat": 4,
 "nbformat_minor": 5
}
